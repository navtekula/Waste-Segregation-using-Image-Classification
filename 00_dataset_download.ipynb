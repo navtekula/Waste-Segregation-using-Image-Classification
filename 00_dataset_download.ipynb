import kagglehub
kagglehub.dataset_download("zlatan599/garbage-dataset-classification")
